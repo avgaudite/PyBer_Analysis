{
 "cells": [
  {
   "cell_type": "code",
   "execution_count": 1,
   "id": "4a5052d9",
   "metadata": {},
   "outputs": [],
   "source": [
    "%matplotlib inline"
   ]
  },
  {
   "cell_type": "code",
   "execution_count": 2,
   "id": "6a54cba0",
   "metadata": {},
   "outputs": [],
   "source": [
    "#Import dependencies\n",
    "import matplotlib.pyplot as plt\n",
    "import statistics"
   ]
  },
  {
   "cell_type": "code",
   "execution_count": 3,
   "id": "499eb912",
   "metadata": {},
   "outputs": [],
   "source": [
    "#Set the x-axis to a list of strings for each month.\n",
    "x_axis=[\"Jan\",\"Feb\",\"Mar\",\"Apr\",\"May\",\"June\",\"July\",\"Aug\",\"Sept\",\"Oct\",\"Nov\",\"Dec\"]\n",
    "y_axis=[10.02,23.24,39.20,35.42,32.34,27.04,43.82,10.56,11.85,27.90,20.71,20.09]"
   ]
  },
  {
   "cell_type": "code",
   "execution_count": 4,
   "id": "19d0a801",
   "metadata": {},
   "outputs": [
    {
     "data": {
      "text/plain": [
       "11.208367917035753"
      ]
     },
     "execution_count": 4,
     "metadata": {},
     "output_type": "execute_result"
    }
   ],
   "source": [
    "#Get the standard deviation of the values in the y-axis.\n",
    "stdev=statistics.stdev(y_axis)\n",
    "stdev"
   ]
  }
 ],
 "metadata": {
  "kernelspec": {
   "display_name": "Python 3 (ipykernel)",
   "language": "python",
   "name": "python3"
  },
  "language_info": {
   "codemirror_mode": {
    "name": "ipython",
    "version": 3
   },
   "file_extension": ".py",
   "mimetype": "text/x-python",
   "name": "python",
   "nbconvert_exporter": "python",
   "pygments_lexer": "ipython3",
   "version": "3.9.7"
  }
 },
 "nbformat": 4,
 "nbformat_minor": 5
}
